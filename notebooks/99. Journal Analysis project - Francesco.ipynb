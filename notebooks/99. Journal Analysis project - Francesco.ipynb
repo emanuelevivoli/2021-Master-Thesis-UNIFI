{
 "cells": [
  {
   "cell_type": "markdown",
   "metadata": {
    "id": "A5Aig8imNspl"
   },
   "source": [
    "# S2orc (exploration, clustering & visualization)\n",
    "---\n",
    "---\n",
    "For presenting some results we need to analyze (and rapidly compare) some of the methods we used untill now in order to discriminates between paper's `field_of_study` based on their `title` and `abstract`.\n",
    "This notebook is an extention of some previous work done by Master's students from University of Florence (cite here)."
   ]
  },
  {
   "cell_type": "markdown",
   "metadata": {
    "colab": {
     "base_uri": "https://localhost:8080/"
    },
    "id": "aKxjDuDNNhHf",
    "outputId": "a7a55043-bedb-4a12-dedc-f7f71ea17e86"
   },
   "source": [
    "## Dataset\n",
    "\n",
    "From each scientific paper we took the `title` and the `abstract`, as well as a property identifying the field in witch the article pertrains.\n",
    "The dataset (only 1000 elements) has been selected randomly from a full-version of 80M papers from different fields.\n",
    "The field of studies (that are called in the dataset `mag_field_of_study`) are the following:\n",
    "\n",
    "| Field of study | All papers | Full text |\n",
    "|----------------|------------|-----------|\n",
    "| Medicine       | 12.8M      | 1.8M      |\n",
    "| Biology        | 9.6M       | 1.6M      |\n",
    "| Chemistry      | 8.7M       | 484k      |\n",
    "| n/a            | 7.7M       | 583k      |\n",
    "| Engineering    | 6.3M       | 228k      |\n",
    "| Comp Sci       | 6.0M       | 580k      |\n",
    "| Physics        | 4.9M       | 838k      |\n",
    "| Mat Sci        | 4.6M       | 213k      |\n",
    "| Math           | 3.9M       | 669k      |\n",
    "| Psychology     | 3.4M       | 316k      |\n",
    "| Economics      | 2.3M       | 198k      |\n",
    "| Poli Sci       | 1.8M       | 69k       |\n",
    "| Business       | 1.8M       | 94k       |\n",
    "| Geology        | 1.8M       | 115k      |\n",
    "| Sociology      | 1.6M       | 93k       |\n",
    "| Geography      | 1.4M       | 58k       |\n",
    "| Env Sci        | 766k       | 52k       |\n",
    "| Art            | 700k       | 16k       |\n",
    "| History        | 690k       | 22k       |\n",
    "| Philosophy     | 384k       | 15k       |\n"
   ]
  },
  {
   "cell_type": "markdown",
   "metadata": {
    "id": "7fCI7WRyDxJB"
   },
   "source": [
    "Note for reproducibility: `data` is a `DatasetDict` object composed by `Dataset` object for every key (in `train`, `test`, `valid`):\n",
    "\n",
    "```python\n",
    "{ \n",
    "    \"train\": Dataset,\n",
    "    \"test\" : Dataset,\n",
    "    \"valid\": Dataset\n",
    "}\n",
    "```"
   ]
  },
  {
   "cell_type": "code",
   "execution_count": 1,
   "metadata": {},
   "outputs": [],
   "source": [
    "%load_ext autoreload\n",
    "%autoreload 2"
   ]
  },
  {
   "cell_type": "code",
   "execution_count": 2,
   "metadata": {
    "colab": {
     "base_uri": "https://localhost:8080/"
    },
    "id": "JBaf8ygZPEha",
    "outputId": "1582b3e1-e705-46de-cd94-6078bd05a22c"
   },
   "outputs": [],
   "source": [
    "MAIN_PATH = '/home/vivoli/Thesis'\n",
    "DATA_PATH = '/home/vivoli/Thesis/data'\n",
    "OUT_PATH  = '/home/vivoli/Thesis/outputs/'\n",
    "ARGS_PATH = '/home/vivoli/Thesis/'"
   ]
  },
  {
   "cell_type": "code",
   "execution_count": 3,
   "metadata": {},
   "outputs": [],
   "source": [
    "# Imports\n",
    "\n",
    "from thesis.utils.general import load_dataset_wrapper\n",
    "from thesis.utils.parsers.args_parser import parse_args\n",
    "\n",
    "DICTIONARY_FIELD_NAMES = dict(\n",
    "    train         = ['train'],\n",
    "    test          = ['test', 'debug', 'dev'],\n",
    "    validation    = ['validation', 'valid']\n",
    ")"
   ]
  },
  {
   "cell_type": "markdown",
   "metadata": {},
   "source": [
    "## Getting the dataset\n",
    "---\n",
    "In order to get the dataset we need to create a dictionary with the DatasetArguments (params) and use our \"library\" called `thesis`."
   ]
  },
  {
   "cell_type": "code",
   "execution_count": 14,
   "metadata": {},
   "outputs": [
    {
     "name": "stdout",
     "output_type": "stream",
     "text": [
      "{'model_name_or_path': 'allenai/scibert_scivocab_uncased', 'dataset_name': 's2orc', 'dataset_config_name': 'full', 'seed': '1234', 'output_dir': '/home/vivoli/Thesis/output', 'num_train_epochs': '1', 'per_device_train_batch_size': '8', 'per_device_eval_batch_size': '8', 'max_seq_length': '512', 'dataset_path': '/home/vivoli/Thesis/data', 'data': 'abstract', 'target': 'title', 'classes': 'mag_field_of_study', 'idxs': '0', 'zipped': 'True', 'mag_field_of_study': 'Computer Science', 'keep_none_papers': 'False', 'keep_unused_columns': 'False', 'run_name': 'scibert-s2orc', 'run_number': '0', 'run_iteration': '0', 'verbose': 'True', 'debug_log': 'True', 'time': 'False', 'callbacks': 'WandbCallback,CometCallback,TensorBoardCallback'}\n"
     ]
    }
   ],
   "source": [
    "# ------------------\n",
    "# Creating Arguments\n",
    "# ------------------\n",
    "\n",
    "# create arguments dictionary\n",
    "args = dict(\n",
    "    \n",
    "    # DatasetArguments\n",
    "    model_name_or_path           = \"allenai/scibert_scivocab_uncased\",\n",
    "    dataset_name                 = \"s2orc\", # \"keyphrase\",\n",
    "    dataset_config_name          = \"full\",  # \"inspec\",\n",
    "\n",
    "    # TrainingArguments        \n",
    "    seed                         = '1234', \n",
    "    output_dir                   = \"/home/vivoli/Thesis/output\",\n",
    "    \n",
    "    num_train_epochs             = '1',\n",
    "    per_device_train_batch_size  = \"8\", # 16 and 32 end with \"RuntimeError: CUDA out of memory.\"\n",
    "    per_device_eval_batch_size   = \"8\", # 16 and 32 end with \"RuntimeError: CUDA out of memory.\"\n",
    "    max_seq_length               = '512',\n",
    "\n",
    "    # S2orcArguments & KeyPhArguments\n",
    "    dataset_path                 = \"/home/vivoli/Thesis/data\",\n",
    "    data                         = \"abstract\",\n",
    "    target                       = \"title\",             \n",
    "    classes                      = \"mag_field_of_study\", # \"keywords\",\n",
    "\n",
    "    # S2orcArguments\n",
    "    idxs                         = '0',\n",
    "    zipped                       = 'True',\n",
    "    mag_field_of_study           = \"Computer Science\",    \n",
    "    keep_none_papers             = 'False',\n",
    "    keep_unused_columns          = 'False',\n",
    "\n",
    "    # RunArguments\n",
    "    run_name                     = \"scibert-s2orc\",\n",
    "    run_number                   = '0',\n",
    "    run_iteration                = '0',\n",
    "\n",
    "    # LoggingArguments\n",
    "    verbose                      = 'True',\n",
    "    debug_log                    = 'True',\n",
    "    time                         = 'False',\n",
    "    callbacks                    = \"WandbCallback,CometCallback,TensorBoardCallback\",\n",
    ")\n",
    "\n",
    "# save dictionary to file\n",
    "import json\n",
    "import os\n",
    "\n",
    "ARGS_FILE = 'arguments.json'\n",
    "\n",
    "with open(os.path.join(ARGS_PATH, ARGS_FILE), 'w') as fp:\n",
    "    json.dump(args, fp)\n",
    "    \n",
    "print(args)"
   ]
  },
  {
   "cell_type": "code",
   "execution_count": 17,
   "metadata": {},
   "outputs": [
    {
     "name": "stdout",
     "output_type": "stream",
     "text": [
      "/home/vivoli/miniconda3/envs/thesis/lib/python3.6/site-packages/ipykernel_launcher.py\n",
      "from notebook: True\n",
      "argv: ['params_path', '/home/vivoli/Thesis/arguments.json']\n",
      "s2orc\n"
     ]
    }
   ],
   "source": [
    "# ------------------\n",
    "# Parsing the Arguments\n",
    "# ------------------\n",
    "\n",
    "dataset_args, training_args, model_args, run_args, log_args, embedding_args = parse_args(['params_path', os.path.join(ARGS_PATH, ARGS_FILE)])"
   ]
  },
  {
   "cell_type": "code",
   "execution_count": null,
   "metadata": {},
   "outputs": [],
   "source": [
    "# ------------------\n",
    "# Getting the datasets\n",
    "# ------------------\n",
    "\n",
    "# Getting the load_dataset wrapper that manages huggingface dataset and the custom ones\n",
    "custom_load_dataset = load_dataset_wrapper()\n",
    "# Loading the raw data based on input (and default) values of arguments\n",
    "raw_datasets = custom_load_dataset(dataset_args, training_args, model_args, run_args, log_args, embedding_args)\n",
    "\n",
    "\n",
    "# The Datasets in the raw form can have different form of key names (depending on the configuration).\n",
    "# We need all datasets to contain 'train', 'test', 'validation' keys, if not we change the dictionary keys' name\n",
    "# based on the `names_tuple` and conseguently on `names_map`.\n",
    "def format_key_names(raw_datasets):\n",
    "    # The creation of `names_map` happens to be here\n",
    "    # For every element in the values lists, one dictionary entry is added \n",
    "    # with (k,v): k=Value of the list, v=Key such as 'train', etc.\n",
    "    def names_dict_generator(names_tuple: dict):\n",
    "        names_map = dict()\n",
    "        for key, values in names_tuple.items():\n",
    "            for value in values:\n",
    "                names_map[value] = key\n",
    "        return names_map\n",
    "    names_map = names_dict_generator(DICTIONARY_FIELD_NAMES)\n",
    "    split_names = raw_datasets.keys()\n",
    "    for split_name in split_names:\n",
    "        new_split_name = names_map.get(split_name)\n",
    "        if split_name != new_split_name:\n",
    "            raw_datasets[new_split_name] = raw_datasets.pop(split_name)  \n",
    "    return raw_datasets\n",
    "\n",
    "logger.info(f\"Formatting DatasetDict keys\")\n",
    "datasets = format_key_names(raw_datasets)"
   ]
  },
  {
   "cell_type": "code",
   "execution_count": null,
   "metadata": {
    "colab": {
     "base_uri": "https://localhost:8080/"
    },
    "id": "pO3vdi0LQRUH",
    "outputId": "b2a34317-2a31-4c45-9f81-ff576ecde3eb"
   },
   "outputs": [],
   "source": []
  },
  {
   "cell_type": "code",
   "execution_count": null,
   "metadata": {
    "colab": {
     "base_uri": "https://localhost:8080/"
    },
    "id": "86d93F19RB2c",
    "outputId": "59213c14-6d9e-498f-a41b-bccade43352c"
   },
   "outputs": [],
   "source": [
    "keywords = []\n",
    "keywords_info = {}\n",
    "for item in data: \n",
    "  temp = item['keywords']\n",
    "  for keyword in temp:\n",
    "    keyword = keyword.replace(\"-\", \"\").replace(\",\",\"\").replace(\"/\", \"\") #mi ero scordato di togliere il trattino nel preprocessing delle keywords. Per la virgola, non è un separatore, ma è una keyword che ha la virgola, e.g. \"segmentation, features and descriptions\"\n",
    "    if keyword not in keywords: \n",
    "      keywords.append(keyword)\n",
    "      keywords_info[keyword] = {'count': 0, 'appears_in': []}\n",
    "    keywords_info[keyword]['count'] += 1\n",
    "    keywords_info[keyword]['appears_in'].append(item['filename'])\n",
    "\n",
    "print(keywords_info)"
   ]
  },
  {
   "cell_type": "code",
   "execution_count": null,
   "metadata": {
    "colab": {
     "base_uri": "https://localhost:8080/",
     "height": 1000
    },
    "id": "8c8qaR0NXgtL",
    "outputId": "7227b8f5-cabe-4421-856d-2570d64d08c6"
   },
   "outputs": [],
   "source": [
    "#plot distribution\n",
    "import numpy as np\n",
    "import matplotlib.pyplot as plt\n",
    "import matplotlib.pyplot as plt; plt.rcdefaults()\n",
    "\n",
    "\n",
    "pos = np.arange(len(keywords))\n",
    "counts = []\n",
    "for kw in keywords:\n",
    "  counts.append(keywords_info[kw]['count'])\n",
    "\n",
    "plt.figure(figsize=(10,25))\n",
    "y_pos = np.arange(len(keywords))\n",
    "plt.barh(y_pos, counts, alpha=0.5)\n",
    "plt.yticks(y_pos, keywords)\n",
    "plt.xlabel('Count')\n",
    "plt.title('Count distribution for each keyword')\n",
    "plt.grid()\n",
    "\n",
    "plt.show()\n"
   ]
  },
  {
   "cell_type": "code",
   "execution_count": null,
   "metadata": {
    "colab": {
     "base_uri": "https://localhost:8080/",
     "height": 1000
    },
    "id": "kPCMbCLxhXkN",
    "outputId": "62e3c704-c289-4510-c068-cea06ad60572"
   },
   "outputs": [],
   "source": [
    "#order by count\n",
    "ordered_kws = [x for _,x in sorted(zip(counts,keywords))]\n",
    "ordered_cts = sorted(counts)\n",
    "\n",
    "\n",
    "plt.figure(figsize=(5,22))\n",
    "y_pos = np.arange(len(keywords))\n",
    "plt.barh(y_pos, ordered_cts, alpha=0.5)\n",
    "plt.yticks(y_pos, ordered_kws)\n",
    "plt.xlabel('Count')\n",
    "plt.title('Count distribution for each keyword')\n",
    "#plt.grid()\n",
    "\n",
    "plt.show()"
   ]
  },
  {
   "cell_type": "markdown",
   "metadata": {
    "id": "Adl8P9s8jjwF"
   },
   "source": [
    "Given the chart of frequency of the keywords (NOT normalized), a threshold can be set to only consider the most relevant keywords"
   ]
  },
  {
   "cell_type": "markdown",
   "metadata": {
    "id": "JRCHp4_FmIZr"
   },
   "source": [
    "# Definition of groups for the \"ground truth\" (?) \"baseline\" (?)\n"
   ]
  },
  {
   "cell_type": "markdown",
   "metadata": {
    "id": "HVg8adeq-cyR"
   },
   "source": [
    "Note: the following is arguable; in fact, the most frequent keywords are also the blandest and, maybe, less significant for a categorization. "
   ]
  },
  {
   "cell_type": "code",
   "execution_count": null,
   "metadata": {
    "colab": {
     "base_uri": "https://localhost:8080/"
    },
    "id": "pZMC-jWJ7v3n",
    "outputId": "ecea0176-095c-47aa-8a8e-37c6baab4d40"
   },
   "outputs": [],
   "source": [
    "len(keywords)"
   ]
  },
  {
   "cell_type": "code",
   "execution_count": null,
   "metadata": {
    "colab": {
     "base_uri": "https://localhost:8080/"
    },
    "id": "oOtdlvO-oj9F",
    "outputId": "4c7ef29e-d323-409c-abb6-ab15370e09ba"
   },
   "outputs": [],
   "source": [
    "len(keywords)*.2 #the first 29 words make up to 20% of all the keywords"
   ]
  },
  {
   "cell_type": "code",
   "execution_count": null,
   "metadata": {
    "colab": {
     "base_uri": "https://localhost:8080/"
    },
    "id": "qbN2usEFpL4k",
    "outputId": "5dd76dc5-ff38-4fa5-ddf1-0f1b6a655d26"
   },
   "outputs": [],
   "source": [
    "sum(ordered_cts[len(ordered_cts)-43:len(ordered_cts)])/sum(ordered_cts)"
   ]
  },
  {
   "cell_type": "code",
   "execution_count": null,
   "metadata": {
    "colab": {
     "base_uri": "https://localhost:8080/"
    },
    "id": "YoZzuU27rxKK",
    "outputId": "5bc720e2-5a76-4aed-cdd6-9f7d9617f633"
   },
   "outputs": [],
   "source": [
    "sum(ordered_cts[len(ordered_cts)-29:len(ordered_cts)])/sum(ordered_cts)"
   ]
  },
  {
   "cell_type": "markdown",
   "metadata": {
    "id": "B4jDp1mTrf-l"
   },
   "source": [
    "43 keywords make up roughly 80% of the total keywords count. However, for practical reasons, 29 keywords (20%) will be used, also considering how many documents have multiple keywords associated to them.\n",
    "This will have consequences in the choice of the number of clusters i.e. if HDBSCAN doesn't need nor wants the number of clusters to be specified, when using k-means it is mandatory for the nature of the algorithm. "
   ]
  },
  {
   "cell_type": "code",
   "execution_count": null,
   "metadata": {
    "id": "xKKiE1TG8ryS"
   },
   "outputs": [],
   "source": [
    "MOST_IMPORTANT_KW_THRESHOLD = 29"
   ]
  },
  {
   "cell_type": "code",
   "execution_count": null,
   "metadata": {
    "colab": {
     "base_uri": "https://localhost:8080/",
     "height": 321
    },
    "id": "e-NegFO3p5ke",
    "outputId": "240dc74b-669c-4344-a789-191c4a628e0c"
   },
   "outputs": [],
   "source": [
    "mi_keywords = ordered_kws[len(ordered_kws)-MOST_IMPORTANT_KW_THRESHOLD:len(ordered_kws)] #most important keywords\n",
    "mi_keywords_counts = ordered_cts[len(ordered_kws)-MOST_IMPORTANT_KW_THRESHOLD:len(ordered_kws)]\n",
    "plt.rc('font', size=8)\n",
    "plt.figure(figsize=(10,3))\n",
    "y_pos = np.arange(len(mi_keywords))\n",
    "plt.barh(y_pos, mi_keywords_counts, alpha=0.5)\n",
    "plt.yticks(y_pos, mi_keywords, )\n",
    "plt.xlabel('Count')\n",
    "plt.title('Count distribution for each of the most important keywords')\n",
    "\n",
    "plt.grid()\n",
    "\n",
    "plt.show()"
   ]
  },
  {
   "cell_type": "code",
   "execution_count": null,
   "metadata": {
    "colab": {
     "base_uri": "https://localhost:8080/"
    },
    "id": "7Lyn9-RT8jha",
    "outputId": "f4699294-9aca-4ace-f326-b8d96620b7b7"
   },
   "outputs": [],
   "source": [
    "mi_associations = {}\n",
    "#direi molto poco elegante ma okay\n",
    "for keyword in mi_keywords: \n",
    "  mi_associations[keyword] = keywords_info[keyword]\n",
    "\n",
    "print(mi_associations['deeplearning'])"
   ]
  },
  {
   "cell_type": "markdown",
   "metadata": {
    "id": "BnVI-BfEk3T-"
   },
   "source": [
    "# Clustering\n",
    "From here on clustering will be considered using SBERT embeddings. \n",
    "The variable called 'clustering_on' is used to discriminate and chose weather the embeddings are made on the abstracts or on the titles. In both cases, clustering is made through HDBSCAN and k-means (see the two subsections).\n",
    "WARNING: do not execute cells in random order. Some variables names are used both for the HDBSCAN clustering and for k-means; the suggestion is to execute hdbscan first, and k-means second. Otherwise, it is important to execute the definition of the functions used for both cases. "
   ]
  },
  {
   "cell_type": "markdown",
   "metadata": {
    "id": "x6IJsf1c_ZRO"
   },
   "source": [
    "## Clustering with HDBSCAN"
   ]
  },
  {
   "cell_type": "code",
   "execution_count": null,
   "metadata": {
    "colab": {
     "base_uri": "https://localhost:8080/"
    },
    "id": "mWet-np_BZlc",
    "outputId": "8abf47e2-7aa7-4f4f-92b6-b586cedf3105"
   },
   "outputs": [],
   "source": [
    "!pip install torch==1.7.1+cu101 torchvision==0.8.2+cu101 torchaudio==0.7.2 -f https://download.pytorch.org/whl/torch_stable.html\n",
    "!pip install hdbscan\n",
    "!pip install sentence-transformers\n",
    "!pip install umap-learn"
   ]
  },
  {
   "cell_type": "code",
   "execution_count": null,
   "metadata": {
    "colab": {
     "base_uri": "https://localhost:8080/",
     "height": 66,
     "referenced_widgets": [
      "86d788ed61724813bb8b6c69eefb7c57",
      "141b9a41a5074395bf9de0aba4402e20",
      "118d8e84375d4da7ad465401f40afa31",
      "963a04b8e07e4a8daf78fae4f290ceb7",
      "748bf5d937b64b79a8c3363417a6b14d",
      "c6be1091a10c44c08aa7c232fadcdba3",
      "d1c1852504b74066910d8af0af79c0ee",
      "db76ce2ff1744a3686bbdbea36805b42"
     ]
    },
    "id": "fq9ABby2CAhH",
    "outputId": "e6346d11-5d8e-481d-b039-d70e475e3fb0"
   },
   "outputs": [],
   "source": [
    "from sentence_transformers import SentenceTransformer\n",
    "#model_in = SentenceTransformer('distilbert-base-nli-mean-tokens') #this model is kinda bad\n",
    "model_in = SentenceTransformer('stsb-roberta-large')\n",
    "#model = SentenceTransformer('paraphrase-distilroberta-base-v1')"
   ]
  },
  {
   "cell_type": "code",
   "execution_count": null,
   "metadata": {
    "id": "XU2qJ-uP_c2S"
   },
   "outputs": [],
   "source": [
    "\n",
    "#since the same exact thing has to be done for both abstracts and titles, i define a function\n",
    "def elaborate(subject = None, model = None): \n",
    "  '''\n",
    "  :param str subject: can be either 'abstract' or 'title', specifies what the clustering has to be made on \n",
    "  :param SentenceTransformer model: instanciated model of SentenceTransformer (SBERT)\n",
    "  '''\n",
    "  textual_data = []\n",
    "\n",
    "  for item in data:\n",
    "    # the condition is rather importante. In the case of abstracts, it kept clustering \n",
    "    # (with HDBSCAN) all the error in the same cluster (which makes sense), remortion is thereby necessary\n",
    "    if not (item[subject] == 'UNABLE TO DECODE ABSTRACT' or item[subject] == 'Unable to open the pdf' or item[subject] == \"\"): \n",
    "      textual_data.append(item[subject])\n",
    "  print(textual_data)\n",
    "  return textual_data, model.encode(textual_data, show_progress_bar = True)\n",
    "\n",
    "\n"
   ]
  },
  {
   "cell_type": "code",
   "execution_count": null,
   "metadata": {
    "id": "_UN4A3GyLRrs"
   },
   "outputs": [],
   "source": [
    "#funzione, dati dati originali e label li stampa assieme\n",
    "\n",
    "def constructDictionaryOfClusters(labels, original_data):\n",
    "  print(labels)\n",
    "  associative = []\n",
    "  #prepare dictionary\n",
    "  \n",
    "  for i in range(labels.max()+1): \n",
    "    associative.append([]) \n",
    "  #print(f\"associative: {associative}\")\n",
    "\n",
    "  for i in range(len(original_data)):\n",
    "    if labels[i] != -1: #in the case of HDBSCAN the labels -1 are the \"outsiders\"\n",
    "      associative[labels[i]].append(original_data[i])\n",
    "    #print(i)\n",
    "\n",
    "  for item in associative:\n",
    "    print(len(item))\n",
    "    print(item)\n",
    "  print(len(associative))\n",
    "  return associative\n",
    "  #nota: l'ultimo elemento della lista è composto dagli outsiders"
   ]
  },
  {
   "cell_type": "code",
   "execution_count": null,
   "metadata": {
    "id": "iEhNJ5RR3Mpu"
   },
   "outputs": [],
   "source": [
    "clustering_on = \"abstract\""
   ]
  },
  {
   "cell_type": "code",
   "execution_count": null,
   "metadata": {
    "colab": {
     "base_uri": "https://localhost:8080/",
     "height": 103,
     "referenced_widgets": [
      "4ae4025047e34855a941c71c9e274141",
      "59ea2938700548a6b05e741942be2d60",
      "5178786c44d646c6aa6ace829845e879",
      "a50ec935153b424fbcedbb76b4bfb1d7",
      "753aef7520ea46e99c94cf17ec677227",
      "523f95fa48d041e184366495c60e3440",
      "eecf39dcfd6943c58bc86424218c37dc",
      "317698dade564644acb8b530ea2b50ab"
     ]
    },
    "id": "7bB2uow7FKGy",
    "outputId": "29cc1bdd-4172-4c3d-dca1-c40d11e8a505"
   },
   "outputs": [],
   "source": [
    "textual_data, embeddings = elaborate(clustering_on, model_in)\n",
    "\n",
    "#########################\n",
    "#instanciate model\n",
    "embeddings = model.encode(textual_data, show_progress_bar = True)\n"
   ]
  },
  {
   "cell_type": "code",
   "execution_count": null,
   "metadata": {
    "colab": {
     "base_uri": "https://localhost:8080/"
    },
    "id": "vnsegBIYJS1v",
    "outputId": "3a02d7eb-39d3-4366-8df6-ada6b459b6d0"
   },
   "outputs": [],
   "source": [
    "print(embeddings.shape)"
   ]
  },
  {
   "cell_type": "code",
   "execution_count": null,
   "metadata": {
    "id": "97lajAFUFoiL"
   },
   "outputs": [],
   "source": [
    "#here after, once calculated the embeddings (either for the abstracts or the title) the clustering is considered\n",
    "#first with HDBSCAN, then k-means\n",
    "import umap\n",
    "import hdbscan\n",
    "# first it's *better* to do dimensionality reduction, sbert returns embeddings of dimension 700+ or even 1000+ (depending on the chosen model)\n",
    "# clustering algorithms seem not to perform well for for big dimensions use-cases\n",
    "# UMAP is a popular algorithm for dimensionality reduction\n",
    "\n",
    "umap_embeddings = umap.UMAP(n_neighbors=15, \n",
    "                            n_components=5, \n",
    "                            metric='cosine').fit_transform(embeddings)\n",
    "\n",
    "cluster = hdbscan.HDBSCAN(min_cluster_size=5,\n",
    "                          metric='euclidean',                      \n",
    "                          cluster_selection_method='eom').fit(umap_embeddings)"
   ]
  },
  {
   "cell_type": "code",
   "execution_count": null,
   "metadata": {
    "colab": {
     "base_uri": "https://localhost:8080/",
     "height": 631
    },
    "id": "MnRok7WMm3Bj",
    "outputId": "fb4d9f3d-3729-4cbe-8685-4645c4ac2b8c"
   },
   "outputs": [],
   "source": [
    "import pandas as pd\n",
    "umap_data = umap.UMAP(n_neighbors=15, n_components=2, min_dist=0.0, metric='cosine').fit_transform(umap_embeddings)\n",
    "result = pd.DataFrame(umap_data, columns=['x', 'y'])\n",
    "result['labels'] = cluster.labels_\n",
    "\n",
    "# Visualize clusters\n",
    "fig, ax = plt.subplots(figsize=(10, 7))\n",
    "outliers = result.loc[result.labels == -1, :]\n",
    "clustered = result.loc[result.labels != -1, :]\n",
    "plt.scatter(outliers.x, outliers.y, color='#BDBDBD', s=0.05)\n",
    "plt.scatter(clustered.x, clustered.y, c=clustered.labels, s=0.05, cmap='hsv_r')\n",
    "plt.colorbar()\n",
    "plt.title(\"Visualization of one instance of clustering through HDBSCAN\")"
   ]
  },
  {
   "cell_type": "code",
   "execution_count": null,
   "metadata": {
    "colab": {
     "base_uri": "https://localhost:8080/",
     "height": 52
    },
    "id": "yb-lOFSaI93L",
    "outputId": "24dad4ff-e655-435f-c4fc-055271de2842"
   },
   "outputs": [],
   "source": [
    "'''cluster = hdbscan.HDBSCAN(min_cluster_size=3,\n",
    "                          metric='manhattan',                      \n",
    "                          cluster_selection_method='eom').fit(embeddings)\n",
    "'''"
   ]
  },
  {
   "cell_type": "code",
   "execution_count": null,
   "metadata": {
    "colab": {
     "base_uri": "https://localhost:8080/"
    },
    "id": "f4Sz6YKoIk01",
    "outputId": "1c665bb5-12bb-4fc1-e502-e73830e0bf0d"
   },
   "outputs": [],
   "source": [
    "#number of clusters\n",
    "print(cluster.labels_.max()) #nota: è il label più alto => #numero clusters = max()+1"
   ]
  },
  {
   "cell_type": "code",
   "execution_count": null,
   "metadata": {
    "colab": {
     "base_uri": "https://localhost:8080/"
    },
    "id": "NYvFY1ehLcsy",
    "outputId": "d089d1c5-60bf-47a9-c873-5d0073ba58f6"
   },
   "outputs": [],
   "source": [
    "clusters = constructDictionaryOfClusters(cluster.labels_, textual_data)"
   ]
  },
  {
   "cell_type": "markdown",
   "metadata": {
    "id": "SFIhzkvpuO0H"
   },
   "source": []
  },
  {
   "cell_type": "code",
   "execution_count": null,
   "metadata": {
    "colab": {
     "base_uri": "https://localhost:8080/"
    },
    "id": "CMwc8L7huo96",
    "outputId": "9586b21b-6fd1-4355-fd50-efe3c05e9efa"
   },
   "outputs": [],
   "source": [
    "print(len(clusters))"
   ]
  },
  {
   "cell_type": "code",
   "execution_count": null,
   "metadata": {
    "id": "C2mRbIeTuwAu"
   },
   "outputs": [],
   "source": [
    "#really not necessary to be honest, \n",
    "clusters_desc = clusters.copy()[:-1]\n",
    "clusters_desc.sort(key = len, reverse = True)"
   ]
  },
  {
   "cell_type": "code",
   "execution_count": null,
   "metadata": {
    "colab": {
     "base_uri": "https://localhost:8080/"
    },
    "id": "7uDetROTyH43",
    "outputId": "6d60d344-3435-4e98-d13d-4aaedc56dcb0"
   },
   "outputs": [],
   "source": [
    "print(len(clusters))\n",
    "print(len(clusters_desc))"
   ]
  },
  {
   "cell_type": "markdown",
   "metadata": {
    "id": "1EiqiuhXzI6J"
   },
   "source": [
    "Now I do sort of a matching matrix. Maybe it would be appropriate to do intersection over union for each element of the matrix?"
   ]
  },
  {
   "cell_type": "code",
   "execution_count": null,
   "metadata": {
    "id": "6dpK3_eP2kKi"
   },
   "outputs": [],
   "source": [
    "#transform clusters of titles/abstracts into clusters of ids\n",
    "'''clusters_of_ids = []\n",
    "\n",
    "for item in clusters_desc:\n",
    "  temp = []\n",
    "  for text in item: \n",
    "    tmp_ids = []\n",
    "    for dt in data: \n",
    "      #print(dt)\n",
    "      tp = None\n",
    "      if dt[clustering_on] == text: \n",
    "        tmp_ids.append(dt['filename'])\n",
    "        tp = dt['filename']\n",
    "        #print(tp)\n",
    "        break\n",
    "    temp.append(tp)\n",
    "         \n",
    "  clusters_of_ids.append(temp)\n",
    "#print(clusters_of_ids)\n",
    "'''"
   ]
  },
  {
   "cell_type": "code",
   "execution_count": null,
   "metadata": {
    "id": "KJ1S8QjUQeSI"
   },
   "outputs": [],
   "source": [
    "def transform_clusters_into_id_clusters(temp_clust_desc):\n",
    "  id_clusters = []\n",
    "\n",
    "  for item in clusters_desc:\n",
    "    temp = []\n",
    "    for text in item: \n",
    "      tmp_ids = []\n",
    "      for dt in data: \n",
    "        #print(dt)\n",
    "        tp = None\n",
    "        if dt[clustering_on] == text: \n",
    "          tmp_ids.append(dt['filename'])\n",
    "          tp = dt['filename']\n",
    "          #print(tp)\n",
    "          break\n",
    "      temp.append(tp)\n",
    "          \n",
    "    id_clusters.append(temp)\n",
    "  return id_clusters"
   ]
  },
  {
   "cell_type": "code",
   "execution_count": null,
   "metadata": {
    "id": "2OQXCWhGQugu"
   },
   "outputs": [],
   "source": [
    "clusters_of_ids = transform_clusters_into_id_clusters(clusters_desc)"
   ]
  },
  {
   "cell_type": "code",
   "execution_count": null,
   "metadata": {
    "colab": {
     "base_uri": "https://localhost:8080/"
    },
    "id": "pM0OoWyB5aaW",
    "outputId": "2bcd3f7a-b97f-4caf-97bc-86d001de2dee"
   },
   "outputs": [],
   "source": [
    "print(len(clusters_of_ids[0]))\n",
    "print(len(clusters_of_ids[-1]))"
   ]
  },
  {
   "cell_type": "code",
   "execution_count": null,
   "metadata": {
    "id": "c_btYP6Bp4S5"
   },
   "outputs": [],
   "source": [
    "#should have stored this way since the beginning, useless transformation..\n",
    "new_data = {}\n",
    "for item in data: \n",
    "  new_data[item['filename']] = {'title': item['title'], 'abstract': item['abstract']}"
   ]
  },
  {
   "cell_type": "code",
   "execution_count": null,
   "metadata": {
    "id": "FCcFJETZqlsE"
   },
   "outputs": [],
   "source": [
    "#new_data"
   ]
  },
  {
   "cell_type": "code",
   "execution_count": null,
   "metadata": {
    "id": "I2yQ0hLzzW4d"
   },
   "outputs": [],
   "source": [
    "mi_keywords_desc = mi_keywords.copy()\n",
    "mi_keywords_desc.reverse()\n",
    "matching_matrix = []\n",
    "\n",
    "#for each cluster\n",
    "for c_item in clusters_of_ids: \n",
    "  #for each keyword of the previously defined keywords\n",
    "  row = []\n",
    "  for kwd in mi_keywords_desc:\n",
    "    # keyword k_item appears in doc1, doc2, ...\n",
    "    # c_item is the first set, the second set should be k_item['appears_in']\n",
    "    appears_in = mi_associations[kwd]['appears_in']\n",
    "    #the following can be replaced with whatever metric\n",
    "    union = len(set(c_item).union(set(appears_in)))\n",
    "    intersection = len(set(c_item).intersection(set(appears_in)))\n",
    "    row.append(intersection/union)\n",
    "  matching_matrix.append(row)\n",
    "\n",
    "import numpy as np\n",
    "np_matching_matrix = np.array(matching_matrix)\n",
    "#print(np_matching_matrix)"
   ]
  },
  {
   "cell_type": "code",
   "execution_count": null,
   "metadata": {
    "colab": {
     "base_uri": "https://localhost:8080/"
    },
    "id": "9CSsFK1VScDf",
    "outputId": "c2846b8e-24f3-46ae-b652-3080c6f46d5f"
   },
   "outputs": [],
   "source": [
    "mi_keywords_desc"
   ]
  },
  {
   "cell_type": "code",
   "execution_count": null,
   "metadata": {
    "colab": {
     "base_uri": "https://localhost:8080/",
     "height": 934
    },
    "id": "R3jOabK19L0X",
    "outputId": "2e312f74-b1bd-49c6-cde6-f84043c24943"
   },
   "outputs": [],
   "source": [
    "import seaborn as sn\n",
    "#TODO add the labels to the chart ?\n",
    "\n",
    "plt.figure(figsize=(11,8))\n",
    "\n",
    "sn.heatmap(np_matching_matrix, annot=False, xticklabels=mi_keywords_desc)"
   ]
  },
  {
   "cell_type": "markdown",
   "metadata": {
    "id": "NfFGqTSBINy3"
   },
   "source": [
    "## Clustering with K-means"
   ]
  },
  {
   "cell_type": "markdown",
   "metadata": {
    "id": "Sd3hjYskRTsA"
   },
   "source": [
    "The reason for doing two types of clustering is that, while HDBSCAN leaves out the outsideres, k-means forces each element into a cluster. "
   ]
  },
  {
   "cell_type": "code",
   "execution_count": null,
   "metadata": {
    "id": "E-hzH6NjIMDA"
   },
   "outputs": [],
   "source": [
    "from sklearn.cluster import KMeans\n",
    "clustering_model = KMeans(n_clusters=29)\n",
    "clustering_model.fit(umap_embeddings)\n",
    "cluster_assignment = clustering_model.labels_\n",
    "# number of clusters\n",
    "print(clustering_model.labels_.max())\n",
    "\n",
    "clusters = constructDictionaryOfClusters(clustering_model.labels_, textual_data)\n"
   ]
  },
  {
   "cell_type": "code",
   "execution_count": null,
   "metadata": {
    "colab": {
     "base_uri": "https://localhost:8080/",
     "height": 631
    },
    "id": "fL560IfWp0-m",
    "outputId": "8310ff8d-f0a8-4692-aa1e-cc565e69d320"
   },
   "outputs": [],
   "source": [
    "import pandas as pd\n",
    "#umap_data = umap.UMAP(n_neighbors=15, n_components=2, min_dist=0.0, metric='cosine').fit_transform(umap_embeddings)\n",
    "result = pd.DataFrame(umap_data, columns=['x', 'y'])\n",
    "result['labels'] = clustering_model.labels_\n",
    "\n",
    "# Visualize clusters\n",
    "fig, ax = plt.subplots(figsize=(10, 7))\n",
    "outliers = result.loc[result.labels == -1, :]\n",
    "clustered = result.loc[result.labels != -1, :]\n",
    "plt.scatter(outliers.x, outliers.y, color='#BDBDBD', s=0.05)\n",
    "plt.scatter(clustered.x, clustered.y, c=clustered.labels, s=0.05, cmap='hsv_r')\n",
    "plt.colorbar()\n",
    "plt.title(\"Visualization of one instance of clustering through k-means\")"
   ]
  },
  {
   "cell_type": "code",
   "execution_count": null,
   "metadata": {
    "id": "VYb8NyKaOxYw"
   },
   "outputs": [],
   "source": [
    "#really not necessary to be honest, \n",
    "clusters_desc = clusters.copy()[:-1]\n",
    "clusters_desc.sort(key = len, reverse = True)"
   ]
  },
  {
   "cell_type": "markdown",
   "metadata": {
    "id": "Rc-lL49_Pir1"
   },
   "source": [
    "NOTE: from this point on, it's the same code as with HDBSCAN"
   ]
  },
  {
   "cell_type": "code",
   "execution_count": null,
   "metadata": {
    "colab": {
     "base_uri": "https://localhost:8080/"
    },
    "id": "0ql69rISPmNk",
    "outputId": "3eab138c-b664-46fb-a7b2-bd3a5e5cae66"
   },
   "outputs": [],
   "source": [
    "clusters_of_ids = transform_clusters_into_id_clusters(clusters_desc)\n",
    "print(len(clusters_of_ids[0]))\n",
    "print(len(clusters_of_ids[-1]))"
   ]
  },
  {
   "cell_type": "code",
   "execution_count": null,
   "metadata": {
    "id": "1zLXS2ztRSu0"
   },
   "outputs": [],
   "source": [
    "#should have stored this way since the beginning, useless transformation..\n",
    "new_data = {}\n",
    "for item in data: \n",
    "  new_data[item['filename']] = {'title': item['title'], 'abstract': item['abstract']}"
   ]
  },
  {
   "cell_type": "code",
   "execution_count": null,
   "metadata": {
    "id": "LqZ-M9F-RoSy"
   },
   "outputs": [],
   "source": [
    "mi_keywords_desc = mi_keywords.copy()\n",
    "mi_keywords_desc.reverse()\n",
    "matching_matrix = []\n",
    "\n",
    "#for each cluster\n",
    "for c_item in clusters_of_ids: \n",
    "  #for each keyword of the previously defined keywords\n",
    "  row = []\n",
    "  for kwd in mi_keywords_desc:\n",
    "    # keyword k_item appears in doc1, doc2, ...\n",
    "    # c_item is the first set, the second set should be k_item['appears_in']\n",
    "    appears_in = mi_associations[kwd]['appears_in']\n",
    "    #the following can be replaced with whatever metric\n",
    "    union = len(set(c_item).union(set(appears_in)))\n",
    "    intersection = len(set(c_item).intersection(set(appears_in)))\n",
    "    row.append(intersection/union)\n",
    "  matching_matrix.append(row)\n",
    "\n",
    "import numpy as np\n",
    "np_matching_matrix = np.array(matching_matrix)\n",
    "#print(np_matching_matrix)"
   ]
  },
  {
   "cell_type": "code",
   "execution_count": null,
   "metadata": {
    "colab": {
     "base_uri": "https://localhost:8080/",
     "height": 934
    },
    "id": "A-n4U9oARpao",
    "outputId": "6c54de09-d4f2-4356-cbee-dff2096a95a7"
   },
   "outputs": [],
   "source": [
    "import seaborn as sn\n",
    "#TODO add the labels to the chart ?\n",
    "\n",
    "plt.figure(figsize=(11,8))\n",
    "sn.heatmap(np_matching_matrix, annot=False, xticklabels=mi_keywords_desc)"
   ]
  },
  {
   "cell_type": "markdown",
   "metadata": {
    "id": "MqcWzWPo-aHt"
   },
   "source": [
    "# A further step: automatic keyword assignment\n",
    "Given the clusters, it's possibile tu use c-\n",
    "TF-IDF to infer the topic, this *could* allow for automatic labeling of a set of documents"
   ]
  },
  {
   "cell_type": "code",
   "execution_count": null,
   "metadata": {
    "id": "sjTgMijdAsy6"
   },
   "outputs": [],
   "source": [
    "#smarter way of doing things..\n",
    "import pandas as pd\n",
    "#for each cluster, create pandas dataframe \n",
    "docs_df = pd.DataFrame(textual_data, columns=[\"Doc\"])\n",
    "docs_df['Topic'] = cluster.labels_\n",
    "docs_df['Doc_ID'] = range(len(docs_df))\n",
    "docs_per_topic = docs_df.groupby(['Topic'], as_index = False).agg({'Doc': ' '.join})"
   ]
  },
  {
   "cell_type": "code",
   "execution_count": null,
   "metadata": {
    "id": "5vUgRaKhqsgP"
   },
   "outputs": [],
   "source": [
    "from sklearn.feature_extraction.text import CountVectorizer\n",
    "#note: c-tf-idf is simply tf-idf but the measurements are made on one entire cluster\n",
    "def c_tf_idf(documents, m, ngram_range=(1, 1)):\n",
    "    count = CountVectorizer(ngram_range=ngram_range, stop_words=\"english\").fit(documents)\n",
    "    t = count.transform(documents).toarray()\n",
    "    w = t.sum(axis=1)\n",
    "    tf = np.divide(t.T, w)\n",
    "    sum_t = t.sum(axis=0)\n",
    "    idf = np.log(np.divide(m, sum_t)).reshape(-1, 1)\n",
    "    tf_idf = np.multiply(tf, idf)\n",
    "\n",
    "    return tf_idf, count\n",
    "  "
   ]
  },
  {
   "cell_type": "code",
   "execution_count": null,
   "metadata": {
    "id": "xBw6NZ0nrLZr"
   },
   "outputs": [],
   "source": [
    "def extract_top_n_words_per_topic(tf_idf, count, docs_per_topic, n=20):\n",
    "    words = count.get_feature_names()\n",
    "    labels = list(docs_per_topic.Topic)\n",
    "    tf_idf_transposed = tf_idf.T\n",
    "    indices = tf_idf_transposed.argsort()[:, -n:]\n",
    "    top_n_words = {label: [(words[j], tf_idf_transposed[i][j]) for j in indices[i]][::-1] for i, label in enumerate(labels)}\n",
    "    return top_n_words\n",
    "\n",
    "def extract_topic_sizes(df):\n",
    "    topic_sizes = (df.groupby(['Topic'])\n",
    "                     .Doc\n",
    "                     .count()\n",
    "                     .reset_index()\n",
    "                     .rename({\"Topic\": \"Topic\", \"Doc\": \"Size\"}, axis='columns')\n",
    "                     .sort_values(\"Size\", ascending=False))\n",
    "    return topic_sizes\n",
    "\n"
   ]
  },
  {
   "cell_type": "code",
   "execution_count": null,
   "metadata": {
    "colab": {
     "base_uri": "https://localhost:8080/",
     "height": 359
    },
    "id": "YA9yCjyzrR29",
    "outputId": "4a8232b2-c47c-4a28-ca1f-66e9c07ef7a4"
   },
   "outputs": [],
   "source": [
    "tf_idf, count = c_tf_idf(docs_per_topic.Doc.values, m=len(data))\n",
    "top_n_words = extract_top_n_words_per_topic(tf_idf, count, docs_per_topic, n=20)\n",
    "topic_sizes = extract_topic_sizes(docs_df) \n",
    "topic_sizes.head(10) #nota, i topic con '-1' sono quelli che hdbscan non ha clusterizzato"
   ]
  },
  {
   "cell_type": "code",
   "execution_count": null,
   "metadata": {
    "colab": {
     "base_uri": "https://localhost:8080/"
    },
    "id": "uDDMT_hyrzEw",
    "outputId": "0a3f21d0-a2d3-496e-c817-9c386b695be0"
   },
   "outputs": [],
   "source": [
    "top_n_words[0][:100]"
   ]
  }
 ],
 "metadata": {
  "accelerator": "GPU",
  "colab": {
   "name": "Evaluation_3_mar.ipynb",
   "provenance": []
  },
  "kernelspec": {
   "display_name": "thesis",
   "language": "python",
   "name": "thesis"
  },
  "language_info": {
   "codemirror_mode": {
    "name": "ipython",
    "version": 3
   },
   "file_extension": ".py",
   "mimetype": "text/x-python",
   "name": "python",
   "nbconvert_exporter": "python",
   "pygments_lexer": "ipython3",
   "version": "3.6.13"
  },
  "widgets": {
   "application/vnd.jupyter.widget-state+json": {
    "118d8e84375d4da7ad465401f40afa31": {
     "model_module": "@jupyter-widgets/controls",
     "model_name": "FloatProgressModel",
     "state": {
      "_dom_classes": [],
      "_model_module": "@jupyter-widgets/controls",
      "_model_module_version": "1.5.0",
      "_model_name": "FloatProgressModel",
      "_view_count": null,
      "_view_module": "@jupyter-widgets/controls",
      "_view_module_version": "1.5.0",
      "_view_name": "ProgressView",
      "bar_style": "success",
      "description": "100%",
      "description_tooltip": null,
      "layout": "IPY_MODEL_c6be1091a10c44c08aa7c232fadcdba3",
      "max": 1313945868,
      "min": 0,
      "orientation": "horizontal",
      "style": "IPY_MODEL_748bf5d937b64b79a8c3363417a6b14d",
      "value": 1313945868
     }
    },
    "141b9a41a5074395bf9de0aba4402e20": {
     "model_module": "@jupyter-widgets/base",
     "model_name": "LayoutModel",
     "state": {
      "_model_module": "@jupyter-widgets/base",
      "_model_module_version": "1.2.0",
      "_model_name": "LayoutModel",
      "_view_count": null,
      "_view_module": "@jupyter-widgets/base",
      "_view_module_version": "1.2.0",
      "_view_name": "LayoutView",
      "align_content": null,
      "align_items": null,
      "align_self": null,
      "border": null,
      "bottom": null,
      "display": null,
      "flex": null,
      "flex_flow": null,
      "grid_area": null,
      "grid_auto_columns": null,
      "grid_auto_flow": null,
      "grid_auto_rows": null,
      "grid_column": null,
      "grid_gap": null,
      "grid_row": null,
      "grid_template_areas": null,
      "grid_template_columns": null,
      "grid_template_rows": null,
      "height": null,
      "justify_content": null,
      "justify_items": null,
      "left": null,
      "margin": null,
      "max_height": null,
      "max_width": null,
      "min_height": null,
      "min_width": null,
      "object_fit": null,
      "object_position": null,
      "order": null,
      "overflow": null,
      "overflow_x": null,
      "overflow_y": null,
      "padding": null,
      "right": null,
      "top": null,
      "visibility": null,
      "width": null
     }
    },
    "317698dade564644acb8b530ea2b50ab": {
     "model_module": "@jupyter-widgets/base",
     "model_name": "LayoutModel",
     "state": {
      "_model_module": "@jupyter-widgets/base",
      "_model_module_version": "1.2.0",
      "_model_name": "LayoutModel",
      "_view_count": null,
      "_view_module": "@jupyter-widgets/base",
      "_view_module_version": "1.2.0",
      "_view_name": "LayoutView",
      "align_content": null,
      "align_items": null,
      "align_self": null,
      "border": null,
      "bottom": null,
      "display": null,
      "flex": null,
      "flex_flow": null,
      "grid_area": null,
      "grid_auto_columns": null,
      "grid_auto_flow": null,
      "grid_auto_rows": null,
      "grid_column": null,
      "grid_gap": null,
      "grid_row": null,
      "grid_template_areas": null,
      "grid_template_columns": null,
      "grid_template_rows": null,
      "height": null,
      "justify_content": null,
      "justify_items": null,
      "left": null,
      "margin": null,
      "max_height": null,
      "max_width": null,
      "min_height": null,
      "min_width": null,
      "object_fit": null,
      "object_position": null,
      "order": null,
      "overflow": null,
      "overflow_x": null,
      "overflow_y": null,
      "padding": null,
      "right": null,
      "top": null,
      "visibility": null,
      "width": null
     }
    },
    "4ae4025047e34855a941c71c9e274141": {
     "model_module": "@jupyter-widgets/controls",
     "model_name": "HBoxModel",
     "state": {
      "_dom_classes": [],
      "_model_module": "@jupyter-widgets/controls",
      "_model_module_version": "1.5.0",
      "_model_name": "HBoxModel",
      "_view_count": null,
      "_view_module": "@jupyter-widgets/controls",
      "_view_module_version": "1.5.0",
      "_view_name": "HBoxView",
      "box_style": "",
      "children": [
       "IPY_MODEL_5178786c44d646c6aa6ace829845e879",
       "IPY_MODEL_a50ec935153b424fbcedbb76b4bfb1d7"
      ],
      "layout": "IPY_MODEL_59ea2938700548a6b05e741942be2d60"
     }
    },
    "5178786c44d646c6aa6ace829845e879": {
     "model_module": "@jupyter-widgets/controls",
     "model_name": "FloatProgressModel",
     "state": {
      "_dom_classes": [],
      "_model_module": "@jupyter-widgets/controls",
      "_model_module_version": "1.5.0",
      "_model_name": "FloatProgressModel",
      "_view_count": null,
      "_view_module": "@jupyter-widgets/controls",
      "_view_module_version": "1.5.0",
      "_view_name": "ProgressView",
      "bar_style": "success",
      "description": "Batches: 100%",
      "description_tooltip": null,
      "layout": "IPY_MODEL_523f95fa48d041e184366495c60e3440",
      "max": 40,
      "min": 0,
      "orientation": "horizontal",
      "style": "IPY_MODEL_753aef7520ea46e99c94cf17ec677227",
      "value": 40
     }
    },
    "523f95fa48d041e184366495c60e3440": {
     "model_module": "@jupyter-widgets/base",
     "model_name": "LayoutModel",
     "state": {
      "_model_module": "@jupyter-widgets/base",
      "_model_module_version": "1.2.0",
      "_model_name": "LayoutModel",
      "_view_count": null,
      "_view_module": "@jupyter-widgets/base",
      "_view_module_version": "1.2.0",
      "_view_name": "LayoutView",
      "align_content": null,
      "align_items": null,
      "align_self": null,
      "border": null,
      "bottom": null,
      "display": null,
      "flex": null,
      "flex_flow": null,
      "grid_area": null,
      "grid_auto_columns": null,
      "grid_auto_flow": null,
      "grid_auto_rows": null,
      "grid_column": null,
      "grid_gap": null,
      "grid_row": null,
      "grid_template_areas": null,
      "grid_template_columns": null,
      "grid_template_rows": null,
      "height": null,
      "justify_content": null,
      "justify_items": null,
      "left": null,
      "margin": null,
      "max_height": null,
      "max_width": null,
      "min_height": null,
      "min_width": null,
      "object_fit": null,
      "object_position": null,
      "order": null,
      "overflow": null,
      "overflow_x": null,
      "overflow_y": null,
      "padding": null,
      "right": null,
      "top": null,
      "visibility": null,
      "width": null
     }
    },
    "59ea2938700548a6b05e741942be2d60": {
     "model_module": "@jupyter-widgets/base",
     "model_name": "LayoutModel",
     "state": {
      "_model_module": "@jupyter-widgets/base",
      "_model_module_version": "1.2.0",
      "_model_name": "LayoutModel",
      "_view_count": null,
      "_view_module": "@jupyter-widgets/base",
      "_view_module_version": "1.2.0",
      "_view_name": "LayoutView",
      "align_content": null,
      "align_items": null,
      "align_self": null,
      "border": null,
      "bottom": null,
      "display": null,
      "flex": null,
      "flex_flow": null,
      "grid_area": null,
      "grid_auto_columns": null,
      "grid_auto_flow": null,
      "grid_auto_rows": null,
      "grid_column": null,
      "grid_gap": null,
      "grid_row": null,
      "grid_template_areas": null,
      "grid_template_columns": null,
      "grid_template_rows": null,
      "height": null,
      "justify_content": null,
      "justify_items": null,
      "left": null,
      "margin": null,
      "max_height": null,
      "max_width": null,
      "min_height": null,
      "min_width": null,
      "object_fit": null,
      "object_position": null,
      "order": null,
      "overflow": null,
      "overflow_x": null,
      "overflow_y": null,
      "padding": null,
      "right": null,
      "top": null,
      "visibility": null,
      "width": null
     }
    },
    "748bf5d937b64b79a8c3363417a6b14d": {
     "model_module": "@jupyter-widgets/controls",
     "model_name": "ProgressStyleModel",
     "state": {
      "_model_module": "@jupyter-widgets/controls",
      "_model_module_version": "1.5.0",
      "_model_name": "ProgressStyleModel",
      "_view_count": null,
      "_view_module": "@jupyter-widgets/base",
      "_view_module_version": "1.2.0",
      "_view_name": "StyleView",
      "bar_color": null,
      "description_width": "initial"
     }
    },
    "753aef7520ea46e99c94cf17ec677227": {
     "model_module": "@jupyter-widgets/controls",
     "model_name": "ProgressStyleModel",
     "state": {
      "_model_module": "@jupyter-widgets/controls",
      "_model_module_version": "1.5.0",
      "_model_name": "ProgressStyleModel",
      "_view_count": null,
      "_view_module": "@jupyter-widgets/base",
      "_view_module_version": "1.2.0",
      "_view_name": "StyleView",
      "bar_color": null,
      "description_width": "initial"
     }
    },
    "86d788ed61724813bb8b6c69eefb7c57": {
     "model_module": "@jupyter-widgets/controls",
     "model_name": "HBoxModel",
     "state": {
      "_dom_classes": [],
      "_model_module": "@jupyter-widgets/controls",
      "_model_module_version": "1.5.0",
      "_model_name": "HBoxModel",
      "_view_count": null,
      "_view_module": "@jupyter-widgets/controls",
      "_view_module_version": "1.5.0",
      "_view_name": "HBoxView",
      "box_style": "",
      "children": [
       "IPY_MODEL_118d8e84375d4da7ad465401f40afa31",
       "IPY_MODEL_963a04b8e07e4a8daf78fae4f290ceb7"
      ],
      "layout": "IPY_MODEL_141b9a41a5074395bf9de0aba4402e20"
     }
    },
    "963a04b8e07e4a8daf78fae4f290ceb7": {
     "model_module": "@jupyter-widgets/controls",
     "model_name": "HTMLModel",
     "state": {
      "_dom_classes": [],
      "_model_module": "@jupyter-widgets/controls",
      "_model_module_version": "1.5.0",
      "_model_name": "HTMLModel",
      "_view_count": null,
      "_view_module": "@jupyter-widgets/controls",
      "_view_module_version": "1.5.0",
      "_view_name": "HTMLView",
      "description": "",
      "description_tooltip": null,
      "layout": "IPY_MODEL_db76ce2ff1744a3686bbdbea36805b42",
      "placeholder": "​",
      "style": "IPY_MODEL_d1c1852504b74066910d8af0af79c0ee",
      "value": " 1.31G/1.31G [01:10&lt;00:00, 18.6MB/s]"
     }
    },
    "a50ec935153b424fbcedbb76b4bfb1d7": {
     "model_module": "@jupyter-widgets/controls",
     "model_name": "HTMLModel",
     "state": {
      "_dom_classes": [],
      "_model_module": "@jupyter-widgets/controls",
      "_model_module_version": "1.5.0",
      "_model_name": "HTMLModel",
      "_view_count": null,
      "_view_module": "@jupyter-widgets/controls",
      "_view_module_version": "1.5.0",
      "_view_name": "HTMLView",
      "description": "",
      "description_tooltip": null,
      "layout": "IPY_MODEL_317698dade564644acb8b530ea2b50ab",
      "placeholder": "​",
      "style": "IPY_MODEL_eecf39dcfd6943c58bc86424218c37dc",
      "value": " 40/40 [00:29&lt;00:00,  1.37it/s]"
     }
    },
    "c6be1091a10c44c08aa7c232fadcdba3": {
     "model_module": "@jupyter-widgets/base",
     "model_name": "LayoutModel",
     "state": {
      "_model_module": "@jupyter-widgets/base",
      "_model_module_version": "1.2.0",
      "_model_name": "LayoutModel",
      "_view_count": null,
      "_view_module": "@jupyter-widgets/base",
      "_view_module_version": "1.2.0",
      "_view_name": "LayoutView",
      "align_content": null,
      "align_items": null,
      "align_self": null,
      "border": null,
      "bottom": null,
      "display": null,
      "flex": null,
      "flex_flow": null,
      "grid_area": null,
      "grid_auto_columns": null,
      "grid_auto_flow": null,
      "grid_auto_rows": null,
      "grid_column": null,
      "grid_gap": null,
      "grid_row": null,
      "grid_template_areas": null,
      "grid_template_columns": null,
      "grid_template_rows": null,
      "height": null,
      "justify_content": null,
      "justify_items": null,
      "left": null,
      "margin": null,
      "max_height": null,
      "max_width": null,
      "min_height": null,
      "min_width": null,
      "object_fit": null,
      "object_position": null,
      "order": null,
      "overflow": null,
      "overflow_x": null,
      "overflow_y": null,
      "padding": null,
      "right": null,
      "top": null,
      "visibility": null,
      "width": null
     }
    },
    "d1c1852504b74066910d8af0af79c0ee": {
     "model_module": "@jupyter-widgets/controls",
     "model_name": "DescriptionStyleModel",
     "state": {
      "_model_module": "@jupyter-widgets/controls",
      "_model_module_version": "1.5.0",
      "_model_name": "DescriptionStyleModel",
      "_view_count": null,
      "_view_module": "@jupyter-widgets/base",
      "_view_module_version": "1.2.0",
      "_view_name": "StyleView",
      "description_width": ""
     }
    },
    "db76ce2ff1744a3686bbdbea36805b42": {
     "model_module": "@jupyter-widgets/base",
     "model_name": "LayoutModel",
     "state": {
      "_model_module": "@jupyter-widgets/base",
      "_model_module_version": "1.2.0",
      "_model_name": "LayoutModel",
      "_view_count": null,
      "_view_module": "@jupyter-widgets/base",
      "_view_module_version": "1.2.0",
      "_view_name": "LayoutView",
      "align_content": null,
      "align_items": null,
      "align_self": null,
      "border": null,
      "bottom": null,
      "display": null,
      "flex": null,
      "flex_flow": null,
      "grid_area": null,
      "grid_auto_columns": null,
      "grid_auto_flow": null,
      "grid_auto_rows": null,
      "grid_column": null,
      "grid_gap": null,
      "grid_row": null,
      "grid_template_areas": null,
      "grid_template_columns": null,
      "grid_template_rows": null,
      "height": null,
      "justify_content": null,
      "justify_items": null,
      "left": null,
      "margin": null,
      "max_height": null,
      "max_width": null,
      "min_height": null,
      "min_width": null,
      "object_fit": null,
      "object_position": null,
      "order": null,
      "overflow": null,
      "overflow_x": null,
      "overflow_y": null,
      "padding": null,
      "right": null,
      "top": null,
      "visibility": null,
      "width": null
     }
    },
    "eecf39dcfd6943c58bc86424218c37dc": {
     "model_module": "@jupyter-widgets/controls",
     "model_name": "DescriptionStyleModel",
     "state": {
      "_model_module": "@jupyter-widgets/controls",
      "_model_module_version": "1.5.0",
      "_model_name": "DescriptionStyleModel",
      "_view_count": null,
      "_view_module": "@jupyter-widgets/base",
      "_view_module_version": "1.2.0",
      "_view_name": "StyleView",
      "description_width": ""
     }
    }
   }
  }
 },
 "nbformat": 4,
 "nbformat_minor": 1
}
