{
 "cells": [
  {
   "cell_type": "markdown",
   "metadata": {},
   "source": [
    "# Loading custom Journal datasets\n",
    "Used for doing some one-shot excecution"
   ]
  },
  {
   "cell_type": "code",
   "execution_count": null,
   "metadata": {},
   "outputs": [],
   "source": [
    "import datasets\n",
    "from datasets import load_dataset,  Dataset, concatenate_datasets"
   ]
  },
  {
   "cell_type": "code",
   "execution_count": null,
   "metadata": {},
   "outputs": [],
   "source": [
    "def save_jsonl(json_list, file_path):\n",
    "    import json\n",
    "    \n",
    "    # just open as usual\n",
    "    output_json = open(file_path, \"w\")\n",
    "    \n",
    "    with output_json as output:\n",
    "        for json_line in json_list:\n",
    "            json.dump(json_line, output)\n",
    "            output.write('\\n')\n",
    "    \n",
    "def load_list(file_path, verbose=True):\n",
    "    import json\n",
    "    import logging\n",
    "    \n",
    "    # just open as usual\n",
    "    input_json = open(file_path, \"r\")\n",
    "    if verbose:\n",
    "        logging.info(\"You choose to only use unzipped files\")\n",
    "    \n",
    "    with input_json:\n",
    "        json_lines = input_json.read()\n",
    "        json_list = json.loads(json_lines)\n",
    "       \n",
    "    return json_list\n",
    "\n",
    "def load_jsonl(file_path, verbose=True):\n",
    "    import json\n",
    "    import logging\n",
    "    \n",
    "    # just open as usual\n",
    "    input_json = open(file_path, \"r\")\n",
    "    if verbose:\n",
    "        logging.info(\"You choose to only use unzipped files\")\n",
    "    \n",
    "    json_list = []\n",
    "    with input_json:\n",
    "        for json_line in input_json.readlines():\n",
    "            json_list.append(json.loads(json_line))\n",
    "       \n",
    "    return json_list\n"
   ]
  },
  {
   "cell_type": "code",
   "execution_count": null,
   "metadata": {},
   "outputs": [],
   "source": [
    "PATH = '/home/vivoli/Thesis/data/s2orc-journal/'\n",
    "files = !ls $PATH\n",
    "print(files)"
   ]
  },
  {
   "cell_type": "code",
   "execution_count": null,
   "metadata": {},
   "outputs": [],
   "source": [
    "import pandas as pd\n",
    "\n",
    "datasets = dict()\n",
    "for file in files:\n",
    "    dataset_name, extention = file.split('.')\n",
    "    json_list = load_jsonl(f'/home/vivoli/Thesis/data/s2orc-journal/{file}')\n",
    "    json_dict = pd.DataFrame(json_list)\n",
    "    dataset = Dataset.from_pandas(json_dict)\n",
    "    datasets[dataset_name] = dataset"
   ]
  },
  {
   "cell_type": "code",
   "execution_count": null,
   "metadata": {},
   "outputs": [],
   "source": [
    "datasets"
   ]
  },
  {
   "cell_type": "code",
   "execution_count": null,
   "metadata": {},
   "outputs": [],
   "source": []
  }
 ],
 "metadata": {
  "kernelspec": {
   "name": "python379jvsc74a57bd0d43c1c91074796e9cdbd2de8c16a4204853f397f18b12204d8a87a17f680418e",
   "display_name": "Python 3.7.9 64-bit ('arxiv-manipulation': conda)"
  },
  "language_info": {
   "codemirror_mode": {
    "name": "ipython",
    "version": 3
   },
   "file_extension": ".py",
   "mimetype": "text/x-python",
   "name": "python",
   "nbconvert_exporter": "python",
   "pygments_lexer": "ipython3",
   "version": "3.7.9"
  }
 },
 "nbformat": 4,
 "nbformat_minor": 4
}